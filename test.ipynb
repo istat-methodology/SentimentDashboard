{
 "cells": [
  {
   "cell_type": "code",
   "execution_count": 65,
   "metadata": {},
   "outputs": [],
   "source": [
    "import polars as pl\n",
    "import datetime\n",
    "import json\n",
    "from datequarter import DateQuarter\n",
    "from typing import Tuple, List\n",
    "from modules import params\n",
    "\n",
    "class Data():\n",
    "    \"\"\"\n",
    "    A class to load JSON files inside the dashboard.\n",
    "    \"\"\"\n",
    "    def __init__(self, path: str):\n",
    "        with open(path) as f:\n",
    "            self.data = json.load(f)\n",
    "    \n",
    "    def _get_date(self, year: int, quarter: str):\n",
    "        quarter_int = params.QUARTER_FILTER['MAPPING'][quarter]\n",
    "        year_int = int(year)\n",
    "        return {\n",
    "            'date': DateQuarter(year_int, quarter_int),\n",
    "            'date_str': f\"Q{quarter_int}{year_int}\"\n",
    "        }\n",
    "\n",
    "    def filter_data(self, year: int, quarter: str, semantic_group: str):\n",
    "        date_quarter = self._get_date(year, quarter)\n",
    "        \n",
    "        # TimeSeries\n",
    "        time_series = pl.from_dict(self.data['time_series'][semantic_group])\n",
    "        time_series = time_series.with_columns(\n",
    "            pl.col(\"DATE\").str.strptime(pl.Date, \"%Y-%m-%d\")\n",
    "        )\n",
    "        time_series = time_series.filter(\n",
    "            (pl.col(\"DATE\") >= date_quarter['date'].start_date()) & (pl.col(\"DATE\") <= date_quarter['date'].end_date())\n",
    "        )\n",
    "\n",
    "        # WordFrequencies\n",
    "        word_freqs = self.data['word_frequencies'][semantic_group][date_quarter['date_str']]\n",
    "\n",
    "        return {\n",
    "            'time_series': time_series,\n",
    "            'word_freqs': word_freqs\n",
    "        }"
   ]
  },
  {
   "cell_type": "code",
   "execution_count": 66,
   "metadata": {},
   "outputs": [],
   "source": [
    "loading = Data('data/dashboard_data.json')\n",
    "\n",
    "time_series = loading.filter_data(2020, 'Trimestre 2', '-')['time_series']\n",
    "word_freqs = loading.filter_data(2020, 'Trimestre 2', '-')['word_freqs']"
   ]
  }
 ],
 "metadata": {
  "language_info": {
   "name": "python"
  }
 },
 "nbformat": 4,
 "nbformat_minor": 2
}
